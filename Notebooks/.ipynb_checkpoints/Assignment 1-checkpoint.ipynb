{
 "cells": [
  {
   "cell_type": "markdown",
   "metadata": {},
   "source": [
    "## Assignment 1\n",
    "\n",
    "Do Exercise 1.10 in *Learning from Data*.  The problem is restated below:\n",
    "\n",
    "Write a program to flip 1000 fair coins.  Flip each coin 10 times, then select three coins as follows:\n",
    "\n",
    "* select the first coin flipped ($c_1$)\n",
    "* Select the first coin with the minimum number of heads ($c_{min}$)\n",
    "* Select another coin completely at random ($c_{rand}$)\n",
    "\n",
    "Let $\\nu_1,\\ \\nu_{min},\\ \\nu_{rand}$ be the fraction of heads for the three selected coins.  Let $\\mu$ be the actual probability of heads.\n",
    "\n",
    "a.  What is $\\mu$ for the coins?\n",
    "\n",
    "b.  repeat the experiment a great number of times (e.g., 100,000 times).  collect $\\nu_1,\\ \\nu_{min},\\ \\nu_{rand}$ for each experiment.  Plot histograms of $\\nu_1,\\ \\nu_{min},\\ \\nu_{rand}$ to see what the distribution looks like.  Note that the coin for $c_{rand}$ and $c_{min}$ will be probably different for each run.\n",
    "\n",
    "c. plot the hoeffding bound $2 * e^{-2 \\epsilon^2 N}$ along with the $P(| \\nu-\\mu | > \\epsilon)$ for different values of epsilon.  $N$ is the number of training examples (10 in this case), and number of hypotheses is $M = 1000$.\n",
    "\n",
    "d. Which coins obey Hoeffding bound?  which do not?  why?\n",
    "\n",
    "e. Explain how the model described here compares to the bin model described in the book and the lecture."
   ]
  }
 ],
 "metadata": {
  "kernelspec": {
   "display_name": "Python 3",
   "language": "python",
   "name": "python3"
  },
  "language_info": {
   "codemirror_mode": {
    "name": "ipython",
    "version": 3
   },
   "file_extension": ".py",
   "mimetype": "text/x-python",
   "name": "python",
   "nbconvert_exporter": "python",
   "pygments_lexer": "ipython3",
   "version": "3.5.4"
  }
 },
 "nbformat": 4,
 "nbformat_minor": 2
}
