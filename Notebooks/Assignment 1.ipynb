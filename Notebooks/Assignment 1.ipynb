{
 "cells": [
  {
   "cell_type": "markdown",
   "metadata": {},
   "source": [
    "## Assignment 1\n",
    "\n",
    "Do Exercise 1.10 in *Learning from Data*.  The problem is restated below:\n",
    "\n",
    "Write a program to flip 1000 fair coins.  Flip each coin 10 times, then select three coins as follows:\n",
    "\n",
    "* select the first coin flipped ($c_1$)\n",
    "* Select the first coin with the minimum number of heads ($c_{min}$)\n",
    "* Select another coin completely at random ($c_{rand}$)\n",
    "\n",
    "Let $\\nu_1,\\ \\nu_{min},\\ \\nu_{rand}$ be the fraction of heads for the three selected coins.  Let $\\mu$ be the actual probability of heads.\n",
    "\n",
    "a.  What is $\\mu$ for the coins?\n",
    "\n",
    "b.  repeat the experiment a great number of times (e.g., 100,000 times).  collect $\\nu_1,\\ \\nu_{min},\\ \\nu_{rand}$ for each experiment.  Plot histograms of $\\nu_1,\\ \\nu_{min},\\ \\nu_{rand}$ to see what the distribution looks like.  Note that the coin for $c_{rand}$ and $c_{min}$ will be probably different for each run.\n",
    "\n",
    "c. plot the hoeffding bound $2 * e^{-2 \\epsilon^2 N}$ along with the $P(| \\nu-\\mu | > \\epsilon)$ for different values of epsilon.  $N$ is the number of training examples (10 in this case), and number of hypotheses is $M = 1000$.\n",
    "\n",
    "d. Which coins obey Hoeffding bound?  which do not?  why?\n",
    "\n",
    "e. Explain how the model described here compares to the bin model described in the book and the lecture."
   ]
  },
  {
   "cell_type": "code",
   "execution_count": 4,
   "metadata": {},
   "outputs": [
    {
     "name": "stdout",
     "output_type": "stream",
     "text": [
      "(10000,)\n",
      "(1000, 10)\n"
     ]
    }
   ],
   "source": [
    "import numpy as np\n",
    "# Emulating a coin flip in python with numpy.\n",
    "# here are a few possible approaches.  remember \n",
    "# that coin flips are independent.  That means \n",
    "# that we can generate all the flips sequentially.\n",
    "\n",
    "M = 1000 # number of separate coins flipped\n",
    "N = 10   # number of samples from each coin\n",
    "\n",
    "# coin flipping is a binomial process with p = 0.5 for a fair coin\n",
    "data = np.random.binomial(size=N*M, n=1, p=0.5)\n",
    "print(data.shape)\n",
    "\n",
    "data = data.reshape(1000,10)\n",
    "print(data.shape)"
   ]
  },
  {
   "cell_type": "code",
   "execution_count": 7,
   "metadata": {},
   "outputs": [
    {
     "name": "stdout",
     "output_type": "stream",
     "text": [
      "[[0 0 1 1 0 0 1 0 0 1]\n",
      " [0 0 1 0 1 0 1 1 1 0]\n",
      " [0 1 1 0 1 1 0 0 1 1]\n",
      " [1 0 1 0 0 1 0 1 0 0]\n",
      " [0 0 0 1 1 0 0 1 1 0]\n",
      " [0 0 0 1 1 0 0 0 0 0]\n",
      " [0 1 0 1 1 1 1 0 1 1]\n",
      " [1 0 0 1 0 1 0 0 0 1]\n",
      " [1 1 0 0 1 1 0 0 1 1]\n",
      " [1 1 1 0 1 1 1 1 1 1]\n",
      " [0 1 1 1 1 0 1 1 0 0]\n",
      " [1 0 0 0 1 1 0 0 1 0]\n",
      " [0 0 0 0 0 0 0 1 0 0]\n",
      " [1 1 0 1 0 0 1 1 1 1]\n",
      " [1 0 0 0 0 1 1 1 1 0]\n",
      " [0 1 1 1 0 1 1 1 1 1]\n",
      " [0 1 0 0 0 1 1 0 1 0]\n",
      " [0 0 0 0 0 0 0 1 1 1]\n",
      " [1 1 1 0 0 1 1 0 1 0]\n",
      " [1 0 0 1 0 0 0 0 0 0]]\n"
     ]
    }
   ],
   "source": [
    "print(data[:20, :])"
   ]
  },
  {
   "cell_type": "markdown",
   "metadata": {},
   "source": [
    "What are the total number of heads for each coin? $(\\nu_i)$?"
   ]
  },
  {
   "cell_type": "code",
   "execution_count": 11,
   "metadata": {},
   "outputs": [
    {
     "data": {
      "text/plain": [
       "array([4, 5, 6, 4, 4, 2, 7, 4, 6, 9, 6, 4, 1, 7, 5, 8, 4, 3, 6, 2])"
      ]
     },
     "execution_count": 11,
     "metadata": {},
     "output_type": "execute_result"
    }
   ],
   "source": [
    "np.sum(data, axis = 1)[:20]"
   ]
  },
  {
   "cell_type": "markdown",
   "metadata": {},
   "source": [
    "How do I choose a random $c$ and $\\nu_i$?"
   ]
  },
  {
   "cell_type": "code",
   "execution_count": 14,
   "metadata": {},
   "outputs": [
    {
     "name": "stdout",
     "output_type": "stream",
     "text": [
      "710\n",
      "c_rand is [0 0 1 0 1 1 0 0 0 1] with nu_rand = 4\n"
     ]
    }
   ],
   "source": [
    "# use choice!  remember M=1000, the number of coins.  \n",
    "# we need to choose one of them.  this function will return the index we want.\n",
    "idx = np.random.choice(M) # choose a coin from the M coins uniformly.\n",
    "print(idx)\n",
    "print(\"c_rand is {} with nu_rand = {}\".format(data[idx, :], np.sum(data[idx, :])))"
   ]
  }
 ],
 "metadata": {
  "kernelspec": {
   "display_name": "Python 3",
   "language": "python",
   "name": "python3"
  },
  "language_info": {
   "codemirror_mode": {
    "name": "ipython",
    "version": 3
   },
   "file_extension": ".py",
   "mimetype": "text/x-python",
   "name": "python",
   "nbconvert_exporter": "python",
   "pygments_lexer": "ipython3",
   "version": "3.5.4"
  }
 },
 "nbformat": 4,
 "nbformat_minor": 2
}
