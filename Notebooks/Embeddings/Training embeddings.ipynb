{
 "cells": [
  {
   "cell_type": "code",
   "execution_count": 2,
   "metadata": {},
   "outputs": [
    {
     "name": "stdout",
     "output_type": "stream",
     "text": [
      "Loading Glove Model\n",
      "Done.\n",
      "400000\n",
      " words loaded!\n"
     ]
    }
   ],
   "source": [
    "#load glove vectors\n",
    "import numpy as np\n",
    "\n",
    "\n",
    "# load glove data manually\n",
    "def loadGloveModel(gloveFile):\n",
    "    print(\"Loading Glove Model\")\n",
    "    with open(gloveFile,'r') as f:\n",
    "        model = {}\n",
    "        for line in f:\n",
    "            splitLine = line.split()\n",
    "            word = splitLine[0]\n",
    "            embedding = np.array([float(val) for val in splitLine[1:]])\n",
    "            model[word] = embedding.reshape(1,-1)\n",
    "        print(\"Done.\"), print(len(model)), print(\" words loaded!\")\n",
    "        return model\n",
    "\n",
    "glove = loadGloveModel('../../../glove.6B/glove.6B.100d.txt')"
   ]
  },
  {
   "cell_type": "code",
   "execution_count": 3,
   "metadata": {},
   "outputs": [
    {
     "data": {
      "text/plain": [
       "array([[-0.2272   ,  0.41578  ,  0.035985 , -0.22895  ,  0.13481  ,\n",
       "        -0.12407  , -0.56653  , -0.32096  ,  0.16223  , -0.024273 ,\n",
       "        -0.033683 , -0.4281   , -0.043623 , -0.18682  , -0.29002  ,\n",
       "        -0.2464   ,  0.51505  , -0.27678  , -0.97691  ,  0.6466   ,\n",
       "        -0.2955   , -0.34955  ,  0.0085932,  0.17147  , -0.24341  ,\n",
       "         0.018099 , -0.57991  , -0.68634  ,  0.29723  , -0.19539  ,\n",
       "        -0.39285  ,  0.55418  , -0.11855  ,  0.40271  , -0.24441  ,\n",
       "         0.13792  ,  0.14396  ,  0.15116  ,  0.19257  , -0.095074 ,\n",
       "        -0.59663  , -0.27685  , -0.43814  , -0.98947  , -0.52515  ,\n",
       "         0.52006  , -0.4445   , -0.23366  , -0.21019  , -0.9059   ,\n",
       "        -0.78404  ,  0.11093  ,  0.09208  ,  1.2145   ,  0.52067  ,\n",
       "        -2.4821   , -0.17693  , -0.94136  ,  1.8578   ,  0.17312  ,\n",
       "        -0.32761  ,  0.45067  , -0.092353 ,  0.11201  ,  0.50869  ,\n",
       "         0.52743  , -0.075203 ,  0.73518  ,  0.40716  , -0.74727  ,\n",
       "         0.60342  , -0.69189  , -0.56087  , -0.87252  ,  0.56949  ,\n",
       "         0.35642  , -0.25138  ,  0.37888  , -0.68022  ,  0.19444  ,\n",
       "         0.92435  ,  0.5161   , -0.62632  , -0.16946  , -1.825    ,\n",
       "         0.23406  ,  0.31977  ,  0.76773  , -0.83824  , -0.38335  ,\n",
       "        -0.037695 , -0.053895 ,  0.1697   , -0.97895  , -0.5481   ,\n",
       "        -0.25664  ,  0.10314  , -0.16628  ,  0.216    ,  0.015172 ]])"
      ]
     },
     "execution_count": 3,
     "metadata": {},
     "output_type": "execute_result"
    }
   ],
   "source": [
    "glove['help']"
   ]
  },
  {
   "cell_type": "code",
   "execution_count": 1,
   "metadata": {},
   "outputs": [
    {
     "ename": "NameError",
     "evalue": "name 'glove' is not defined",
     "output_type": "error",
     "traceback": [
      "\u001b[0;31m---------------------------------------------------------------------------\u001b[0m",
      "\u001b[0;31mNameError\u001b[0m                                 Traceback (most recent call last)",
      "\u001b[0;32m<ipython-input-1-8d90fbc2d546>\u001b[0m in \u001b[0;36m<module>\u001b[0;34m()\u001b[0m\n\u001b[1;32m      5\u001b[0m \u001b[0;34m\u001b[0m\u001b[0m\n\u001b[1;32m      6\u001b[0m \u001b[0;34m\u001b[0m\u001b[0m\n\u001b[0;32m----> 7\u001b[0;31m \u001b[0mprint\u001b[0m\u001b[0;34m(\u001b[0m\u001b[0mcosine_similarity\u001b[0m\u001b[0;34m(\u001b[0m\u001b[0mglove\u001b[0m\u001b[0;34m[\u001b[0m\u001b[0;34m'king'\u001b[0m\u001b[0;34m]\u001b[0m\u001b[0;34m,\u001b[0m \u001b[0mglove\u001b[0m\u001b[0;34m[\u001b[0m\u001b[0;34m'queen'\u001b[0m\u001b[0;34m]\u001b[0m\u001b[0;34m)\u001b[0m\u001b[0;34m)\u001b[0m\u001b[0;34m\u001b[0m\u001b[0m\n\u001b[0m\u001b[1;32m      8\u001b[0m \u001b[0mprint\u001b[0m\u001b[0;34m(\u001b[0m\u001b[0mcosine_similarity\u001b[0m\u001b[0;34m(\u001b[0m\u001b[0mglove\u001b[0m\u001b[0;34m[\u001b[0m\u001b[0;34m'man'\u001b[0m\u001b[0;34m]\u001b[0m\u001b[0;34m,\u001b[0m \u001b[0mglove\u001b[0m\u001b[0;34m[\u001b[0m\u001b[0;34m'woman'\u001b[0m\u001b[0;34m]\u001b[0m\u001b[0;34m)\u001b[0m\u001b[0;34m)\u001b[0m\u001b[0;34m\u001b[0m\u001b[0m\n\u001b[1;32m      9\u001b[0m \u001b[0;34m\u001b[0m\u001b[0m\n",
      "\u001b[0;31mNameError\u001b[0m: name 'glove' is not defined"
     ]
    }
   ],
   "source": [
    "from sklearn.metrics.pairwise import cosine_similarity\n",
    "\n",
    "def euclidean_dist(x, y):\n",
    "    return np.sqrt(np.sum((y-x)**2))\n",
    "\n",
    "\n",
    "print(cosine_similarity(glove['king'], glove['queen']))\n",
    "print(cosine_similarity(glove['man'], glove['woman']))\n",
    "\n",
    "print('-------------')\n",
    "print(cosine_similarity(glove['king'], glove['man']))\n",
    "print(cosine_similarity(glove['queen'], glove['woman']))\n"
   ]
  },
  {
   "cell_type": "code",
   "execution_count": 12,
   "metadata": {},
   "outputs": [
    {
     "name": "stdout",
     "output_type": "stream",
     "text": [
      "[[ -0.468538    -1.29838      3.51749      0.7781703    0.712394\n",
      "    2.409396    -1.998852     2.07995     -2.88567     -1.101565\n",
      "    0.73997      1.52254      0.54063      1.236684     0.61362\n",
      "   -2.714402     1.9392321   -1.21502     -2.31313     -2.12292\n",
      "   -0.59433     -1.71781      2.4522       0.415394     3.53346\n",
      "   -1.431382    -0.336709    -2.598249     1.8224898   -0.466295\n",
      "    1.507656     1.6444       2.162371     0.1914      -0.56686\n",
      "    2.290916    -1.199534     2.72737     -0.026001    -1.034356\n",
      "   -2.50565     -1.38038      2.50016     -1.81181      1.05644\n",
      "    0.132374    -0.32797      0.18228      1.45970539  -2.88553\n",
      "    0.1017244   -0.27269      2.99129      6.57612     -3.42901\n",
      "  -14.1876      -1.452409    -0.88435      7.84608932   2.403914\n",
      "   -0.49914      4.65527     -0.45538      1.55924      2.599067\n",
      "    0.5972265   -0.153246     1.36726     -1.110356    -0.44656\n",
      "   -0.160627    -1.47323      0.738397    -2.225854    -0.063801\n",
      "    0.31312     -2.0581       0.092481    -4.08017     -1.424218\n",
      "    2.700015     0.042423     1.236875     1.21441     -5.417222\n",
      "   -2.95183     -0.213213    -3.31418      1.9068978   -1.86118\n",
      "   -0.75078     -1.462228     0.35828      4.85053     -3.71414\n",
      "   -1.74253     -2.26232     -0.98385      3.9435547   -1.15727   ]]\n",
      "[[-2.91158000e-01 -1.46628000e+00  3.18338000e+00  3.57850300e-01\n",
      "   7.17294000e-01  2.54538600e+00 -2.11645200e+00  9.88160000e-01\n",
      "  -3.07553000e+00 -1.99680500e+00  7.75370000e-01  1.60934000e+00\n",
      "   8.04470000e-01  6.84364000e-01  9.08119000e-01 -3.02431200e+00\n",
      "   1.72535810e+00 -2.04904000e+00 -2.67767000e+00 -2.23792000e+00\n",
      "  -2.06110000e-01 -2.12711000e+00  2.30415000e+00  3.63894000e-01\n",
      "   3.31087000e+00 -1.62723200e+00 -1.09369000e-01 -1.93931900e+00\n",
      "   1.71246980e+00 -1.92464000e-01  1.43354600e+00  1.63353000e+00\n",
      "   1.70142100e+00  3.34640000e-01 -9.72460000e-01  2.46358600e+00\n",
      "  -8.05444000e-01  2.99283000e+00  3.09496000e-01 -1.04146600e+00\n",
      "  -2.73828000e+00 -7.98990000e-01  2.94544000e+00 -2.13745000e+00\n",
      "   2.13880000e-01 -3.16920000e-01 -4.74780000e-01 -7.43800000e-02\n",
      "   9.70605390e-01 -3.26796000e+00 -2.66235600e-01 -9.99150000e-02\n",
      "   2.88189000e+00  6.26100000e+00 -3.12540000e+00 -1.45054000e+01\n",
      "  -1.48225900e+00 -6.02910000e-01  8.17380932e+00  2.45993000e+00\n",
      "  -2.26940000e-01  4.19323000e+00 -2.78242000e-01  1.28003400e+00\n",
      "   2.90591700e+00  1.96965000e-02  1.36940000e-02  1.32738000e+00\n",
      "  -2.16751600e+00 -4.93650000e-02 -5.08600000e-03 -1.53957000e+00\n",
      "   9.43039000e-01 -2.60680000e+00 -6.00191000e-01  1.64549000e-01\n",
      "  -2.79957000e+00  5.00532000e-01 -4.83679000e+00 -4.25968000e-01\n",
      "   3.48179000e+00  1.39513000e-01  4.10350000e-02  6.77831000e-01\n",
      "  -5.12263200e+00 -1.79504000e+00 -3.63223000e-01 -3.86858000e+00\n",
      "   1.58082780e+00 -2.06591000e+00 -5.28101000e-01 -1.46958800e+00\n",
      "   1.77830000e-02  4.75396000e+00 -4.24714000e+00 -1.69596000e+00\n",
      "  -1.95604000e+00 -1.15234000e+00  3.97491470e+00 -1.58530000e+00]]\n",
      "4.281252149113387\n",
      "[[0.98709474]]\n"
     ]
    }
   ],
   "source": [
    "\n",
    "sent1 = 'the king sat on the throne'\n",
    "sent2 = 'the queen sat on the throne'\n",
    "\n",
    "def sentence_vector(sentence):\n",
    "    sentvec = np.zeros(100).reshape(1,-1)\n",
    "    for token in sentence.split():\n",
    "        sentvec += glove[token]\n",
    "    return sentvec\n",
    "\n",
    "vec2 = sentence_vector(sent2)\n",
    "print(vec2)\n",
    "\n",
    "vec1 = sentence_vector(sent1)\n",
    "print(vec1)\n",
    "\n",
    "print(euclidean_dist(vec1, vec2))\n",
    "print(cosine_similarity(vec1, vec2))\n"
   ]
  },
  {
   "cell_type": "code",
   "execution_count": null,
   "metadata": {},
   "outputs": [],
   "source": []
  }
 ],
 "metadata": {
  "kernelspec": {
   "display_name": "Python 3",
   "language": "python",
   "name": "python3"
  },
  "language_info": {
   "codemirror_mode": {
    "name": "ipython",
    "version": 3
   },
   "file_extension": ".py",
   "mimetype": "text/x-python",
   "name": "python",
   "nbconvert_exporter": "python",
   "pygments_lexer": "ipython3",
   "version": "3.5.4"
  }
 },
 "nbformat": 4,
 "nbformat_minor": 2
}
