{
 "cells": [
  {
   "cell_type": "code",
   "execution_count": 175,
   "metadata": {},
   "outputs": [
    {
     "name": "stdout",
     "output_type": "stream",
     "text": [
      "(60000, 28, 28)\n",
      "(60000,)\n",
      "(10000, 28, 28)\n",
      "(10000,)\n"
     ]
    }
   ],
   "source": [
    "import numpy as np\n",
    "from keras.datasets import mnist\n",
    "from keras.utils import to_categorical\n",
    "import pylab as plt\n",
    "import matplotlib.cm as cm\n",
    "\n",
    "(x_train, y_train), (x_test, y_test) = mnist.load_data()\n",
    "\n",
    "# What does the data look like?\n",
    "print(x_train.shape)\n",
    "print(y_train.shape)\n",
    "print(x_test.shape)\n",
    "print(y_test.shape)"
   ]
  },
  {
   "cell_type": "code",
   "execution_count": 176,
   "metadata": {},
   "outputs": [
    {
     "name": "stdout",
     "output_type": "stream",
     "text": [
      "label :  8\n"
     ]
    },
    {
     "data": {
      "image/png": "[encoded data removed]",
      "text/plain": [
       "<Figure size 432x288 with 1 Axes>"
      ]
     },
     "metadata": {},
     "output_type": "display_data"
    }
   ],
   "source": [
    "# x_train is 60,000 images, so let's look at one of the images\n",
    "i = np.where(y_train==8)[0][0]\n",
    "print(\"label : \", y_train[i])\n",
    "sample = x_train[i, ...]\n",
    "sample.shape\n",
    "plt.imshow(sample, cmap=cm.gray)\n",
    "plt.show()"
   ]
  },
  {
   "cell_type": "code",
   "execution_count": 177,
   "metadata": {},
   "outputs": [
    {
     "name": "stdout",
     "output_type": "stream",
     "text": [
      "(60000, 784)\n"
     ]
    }
   ],
   "source": [
    "# the data should be in a flat array for each sample, so we will reshape from 28 * 28 to 784\n",
    "x_train = x_train.reshape(60000,28*28)\n",
    "print(x_train.shape)\n",
    "\n",
    "# We will one-hot encode the labels\n",
    "y_train = to_categorical(y_train)"
   ]
  },
  {
   "cell_type": "code",
   "execution_count": 178,
   "metadata": {},
   "outputs": [
    {
     "name": "stdout",
     "output_type": "stream",
     "text": [
      "(60000, 10)\n",
      "label :  [0. 0. 0. 0. 0. 0. 0. 0. 1. 0.]\n"
     ]
    }
   ],
   "source": [
    "print(y_train.shape)\n",
    "print(\"label : \", y_train[i, :])"
   ]
  },
  {
   "cell_type": "code",
   "execution_count": 257,
   "metadata": {},
   "outputs": [],
   "source": [
    "# ok now let's get a cross-validation set from the training data.\n",
    "from sklearn.model_selection import train_test_split\n",
    "x_train_part, x_train_val, y_train_part, y_train_val = \\\n",
    "    train_test_split(x_train, y_train, test_size=0.2, random_state=42)"
   ]
  },
  {
   "cell_type": "code",
   "execution_count": 258,
   "metadata": {},
   "outputs": [],
   "source": [
    "# now we will define the logistic regression classification model.\n",
    "from keras import models\n",
    "from keras import layers\n",
    "from keras import optimizers\n",
    "\n",
    "model1 = models.Sequential()\n",
    "model1.add(layers.Dense(10, activation='softmax', input_shape=(784,)))\n",
    "\n",
    "#compile the model\n",
    "model1.compile(optimizer=\"rmsprop\",\n",
    "    #optimizer=optimizers.RMSprop(lr=0.001, rho=0.9, epsilon=None, decay=0.0),\n",
    "             loss='categorical_crossentropy',\n",
    "             metrics=['accuracy'])"
   ]
  },
  {
   "cell_type": "code",
   "execution_count": 259,
   "metadata": {},
   "outputs": [
    {
     "name": "stdout",
     "output_type": "stream",
     "text": [
      "Train on 48000 samples, validate on 12000 samples\n",
      "Epoch 1/25\n",
      "48000/48000 [==============================] - 3s 65us/step - loss: 7.3417 - acc: 0.5365 - val_loss: 4.9377 - val_acc: 0.6877\n",
      "Epoch 2/25\n",
      "48000/48000 [==============================] - 2s 49us/step - loss: 3.8336 - acc: 0.7553 - val_loss: 3.3638 - val_acc: 0.7863\n",
      "Epoch 3/25\n",
      "48000/48000 [==============================] - 2s 49us/step - loss: 3.2335 - acc: 0.7941 - val_loss: 3.2025 - val_acc: 0.7953\n",
      "Epoch 4/25\n",
      "48000/48000 [==============================] - 2s 49us/step - loss: 3.1110 - acc: 0.8024 - val_loss: 3.1125 - val_acc: 0.8023\n",
      "Epoch 5/25\n",
      "48000/48000 [==============================] - 2s 49us/step - loss: 2.9977 - acc: 0.8098 - val_loss: 2.9720 - val_acc: 0.8115\n",
      "Epoch 6/25\n",
      "48000/48000 [==============================] - 2s 49us/step - loss: 2.9637 - acc: 0.8120 - val_loss: 2.9000 - val_acc: 0.8175\n",
      "Epoch 7/25\n",
      "48000/48000 [==============================] - 2s 50us/step - loss: 2.8974 - acc: 0.8167 - val_loss: 2.8908 - val_acc: 0.8167\n",
      "Epoch 8/25\n",
      "48000/48000 [==============================] - 2s 49us/step - loss: 2.8691 - acc: 0.8180 - val_loss: 2.8515 - val_acc: 0.8208\n",
      "Epoch 9/25\n",
      "48000/48000 [==============================] - 2s 49us/step - loss: 2.8306 - acc: 0.8212 - val_loss: 3.0840 - val_acc: 0.8044\n",
      "Epoch 10/25\n",
      "48000/48000 [==============================] - 2s 50us/step - loss: 2.8325 - acc: 0.8214 - val_loss: 2.8227 - val_acc: 0.8213\n",
      "Epoch 11/25\n",
      "48000/48000 [==============================] - 2s 49us/step - loss: 2.7992 - acc: 0.8232 - val_loss: 2.9092 - val_acc: 0.8163\n",
      "Epoch 12/25\n",
      "48000/48000 [==============================] - 2s 51us/step - loss: 2.7707 - acc: 0.8252 - val_loss: 2.8822 - val_acc: 0.8183\n",
      "Epoch 13/25\n",
      "48000/48000 [==============================] - 2s 50us/step - loss: 2.7714 - acc: 0.8254 - val_loss: 2.8854 - val_acc: 0.8180\n",
      "Epoch 14/25\n",
      "48000/48000 [==============================] - 2s 50us/step - loss: 2.7922 - acc: 0.8241 - val_loss: 2.9232 - val_acc: 0.8151\n",
      "Epoch 15/25\n",
      "48000/48000 [==============================] - 2s 50us/step - loss: 2.7499 - acc: 0.8268 - val_loss: 2.7832 - val_acc: 0.8246\n",
      "Epoch 16/25\n",
      "48000/48000 [==============================] - 2s 50us/step - loss: 2.7304 - acc: 0.8278 - val_loss: 2.9484 - val_acc: 0.8142\n",
      "Epoch 17/25\n",
      "48000/48000 [==============================] - 2s 50us/step - loss: 2.7603 - acc: 0.8262 - val_loss: 2.8670 - val_acc: 0.8189\n",
      "Epoch 18/25\n",
      "48000/48000 [==============================] - 2s 50us/step - loss: 2.7290 - acc: 0.8279 - val_loss: 2.8044 - val_acc: 0.8236\n",
      "Epoch 19/25\n",
      "48000/48000 [==============================] - 2s 50us/step - loss: 2.7229 - acc: 0.8285 - val_loss: 2.7979 - val_acc: 0.8237\n",
      "Epoch 20/25\n",
      "48000/48000 [==============================] - 2s 50us/step - loss: 2.7268 - acc: 0.8283 - val_loss: 2.7936 - val_acc: 0.8241\n",
      "Epoch 21/25\n",
      "48000/48000 [==============================] - 2s 50us/step - loss: 2.7324 - acc: 0.8280 - val_loss: 2.9443 - val_acc: 0.8140\n",
      "Epoch 22/25\n",
      "48000/48000 [==============================] - 2s 51us/step - loss: 2.7111 - acc: 0.8294 - val_loss: 2.7857 - val_acc: 0.8253\n",
      "Epoch 23/25\n",
      "48000/48000 [==============================] - 2s 50us/step - loss: 2.7007 - acc: 0.8301 - val_loss: 2.7704 - val_acc: 0.8249\n",
      "Epoch 24/25\n",
      "48000/48000 [==============================] - 2s 50us/step - loss: 2.6829 - acc: 0.8312 - val_loss: 2.8894 - val_acc: 0.8182\n",
      "Epoch 25/25\n",
      "48000/48000 [==============================] - 2s 50us/step - loss: 2.6919 - acc: 0.8305 - val_loss: 2.7867 - val_acc: 0.8254\n"
     ]
    }
   ],
   "source": [
    "# now fit the model...\n",
    "eps = 25\n",
    "history = model1.fit(x_train_part,\n",
    "                    y_train_part,\n",
    "                    #batch_size=512,\n",
    "                    epochs=eps,\n",
    "                    validation_data=(x_train_val, y_train_val))"
   ]
  },
  {
   "cell_type": "code",
   "execution_count": 260,
   "metadata": {},
   "outputs": [
    {
     "data": {
      "image/png": "[encoded data removed]",
      "text/plain": [
       "<Figure size 432x288 with 1 Axes>"
      ]
     },
     "metadata": {},
     "output_type": "display_data"
    }
   ],
   "source": [
    "# plot the learning parameters\n",
    "import matplotlib.pyplot as plt\n",
    "\n",
    "history_dict = history.history\n",
    "loss_values = history_dict['loss']\n",
    "val_loss_values = history_dict['val_loss']\n",
    "\n",
    "epochs = range(1, eps + 1)\n",
    "\n",
    "plt.plot(epochs, loss_values, 'g', label='Training Loss')\n",
    "plt.plot(epochs, val_loss_values, 'b', label='Validation Loss')\n",
    "plt.title('Training and Validation Loss')\n",
    "plt.xlabel('Epochs')\n",
    "plt.ylabel('Loss')\n",
    "plt.legend()\n",
    "\n",
    "plt.show()"
   ]
  },
  {
   "cell_type": "code",
   "execution_count": 261,
   "metadata": {},
   "outputs": [
    {
     "data": {
      "image/png": "[encoded data removed]",
      "text/plain": [
       "<Figure size 432x288 with 1 Axes>"
      ]
     },
     "metadata": {},
     "output_type": "display_data"
    }
   ],
   "source": [
    "plt.clf()\n",
    "\n",
    "acc_values = history_dict['acc']\n",
    "val_acc_values = history_dict['val_acc']\n",
    "\n",
    "plt.plot(epochs, acc_values, 'g', label='Training Accuracy')\n",
    "plt.plot(epochs, val_acc_values, 'b', label='Validation Accuracy')\n",
    "plt.title('Training and Validation Accuracy')\n",
    "plt.xlabel('Epochs')\n",
    "plt.ylabel('Accuracy')\n",
    "plt.legend()\n",
    "\n",
    "plt.show()"
   ]
  },
  {
   "cell_type": "code",
   "execution_count": 262,
   "metadata": {},
   "outputs": [
    {
     "data": {
      "text/plain": [
       "array([[ 954,    0,    1,    4,    0,    1,   13,    3,    4,    0],\n",
       "       [   0, 1091,    7,    6,    0,    3,    4,    2,   22,    0],\n",
       "       [  11,    0,  939,   17,    0,    1,   15,   15,   28,    6],\n",
       "       [   3,    0,   25,  919,    0,   14,    2,    9,   32,    6],\n",
       "       [   1,    4,   14,    1,    0,    0,  119,   54,   83,  706],\n",
       "       [  10,    1,    8,   45,    0,  731,   17,    9,   66,    5],\n",
       "       [  13,    3,    5,    1,    0,   11,  917,    3,    4,    1],\n",
       "       [   2,    8,   24,    5,    0,    0,    0,  963,    9,   17],\n",
       "       [   3,    3,   12,   18,    0,   13,   12,   10,  897,    6],\n",
       "       [   9,    3,    3,   11,    0,    8,    1,   43,   20,  911]])"
      ]
     },
     "execution_count": 262,
     "metadata": {},
     "output_type": "execute_result"
    }
   ],
   "source": [
    "# That wasn't too bad.  Over 80% accuracy.  Let's look at the confusion\n",
    "from sklearn.metrics import confusion_matrix, classification_report\n",
    "\n",
    "y_pred = model1.predict(x_test.reshape(10000, 28*28))\n",
    "y_pred_test = np.argmax(y_pred, axis=1)\n",
    "\n",
    "confusion_matrix(y_test, y_pred_test)"
   ]
  },
  {
   "cell_type": "code",
   "execution_count": 263,
   "metadata": {},
   "outputs": [
    {
     "name": "stdout",
     "output_type": "stream",
     "text": [
      "             precision    recall  f1-score   support\n",
      "\n",
      "          0       0.95      0.97      0.96       980\n",
      "          1       0.98      0.96      0.97      1135\n",
      "          2       0.90      0.91      0.91      1032\n",
      "          3       0.89      0.91      0.90      1010\n",
      "          4       0.00      0.00      0.00       982\n",
      "          5       0.93      0.82      0.87       892\n",
      "          6       0.83      0.96      0.89       958\n",
      "          7       0.87      0.94      0.90      1028\n",
      "          8       0.77      0.92      0.84       974\n",
      "          9       0.55      0.90      0.68      1009\n",
      "\n",
      "avg / total       0.77      0.83      0.80     10000\n",
      "\n"
     ]
    },
    {
     "name": "stderr",
     "output_type": "stream",
     "text": [
      "/Users/jdumoulin/Envs/python3notebooks/lib/python3.5/site-packages/sklearn/metrics/classification.py:1135: UndefinedMetricWarning: Precision and F-score are ill-defined and being set to 0.0 in labels with no predicted samples.\n",
      "  'precision', 'predicted', average, warn_for)\n"
     ]
    }
   ],
   "source": [
    "print(classification_report(y_test, y_pred_test))"
   ]
  },
  {
   "cell_type": "code",
   "execution_count": 232,
   "metadata": {},
   "outputs": [],
   "source": [
    "# The linear model confuses certain numbers with others.  \n",
    "#  It is interesting to examine thos confusions and see \n",
    "#  if a person would also make these errors.  \n",
    "#  Maybe a one-layer MLP will perform better."
   ]
  },
  {
   "cell_type": "code",
   "execution_count": null,
   "metadata": {},
   "outputs": [],
   "source": []
  }
 ],
 "metadata": {
  "kernelspec": {
   "display_name": "Python 3",
   "language": "python",
   "name": "python3"
  },
  "language_info": {
   "codemirror_mode": {
    "name": "ipython",
    "version": 3
   },
   "file_extension": ".py",
   "mimetype": "text/x-python",
   "name": "python",
   "nbconvert_exporter": "python",
   "pygments_lexer": "ipython3",
   "version": "3.5.4"
  }
 },
 "nbformat": 4,
 "nbformat_minor": 2
}
