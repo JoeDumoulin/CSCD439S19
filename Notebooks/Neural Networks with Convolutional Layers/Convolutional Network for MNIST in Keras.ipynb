{
 "cells": [
  {
   "cell_type": "markdown",
   "metadata": {},
   "source": [
    "## Keras ConvNet Example\n",
    "This example network is an update of the network from the [ipynb playground](https://github.com/julienr/ipynb_playground/blob/master/keras/convmnist/keras_cnn_mnist_v1.ipynb).  The changes are to ugrade the Keras calls to keras v2 and a tensorflow backend."
   ]
  },
  {
   "cell_type": "code",
   "execution_count": 1,
   "metadata": {},
   "outputs": [
    {
     "name": "stderr",
     "output_type": "stream",
     "text": [
      "/Users/jdumoulin/Envs/python3notebooks/lib/python3.5/site-packages/h5py/__init__.py:36: FutureWarning: Conversion of the second argument of issubdtype from `float` to `np.floating` is deprecated. In future, it will be treated as `np.float64 == np.dtype(float).type`.\n",
      "  from ._conv import register_converters as _register_converters\n",
      "Using TensorFlow backend.\n",
      "/Users/jdumoulin/Envs/python3notebooks/lib/python3.5/importlib/_bootstrap.py:222: RuntimeWarning: compiletime version 3.6 of module 'tensorflow.python.framework.fast_tensor_util' does not match runtime version 3.5\n",
      "  return f(*args, **kwds)\n"
     ]
    }
   ],
   "source": [
    "import warnings\n",
    "warnings.filterwarnings(\"ignore\", category=DeprecationWarning) \n",
    "\n",
    "from __future__ import absolute_import\n",
    "from __future__ import print_function\n",
    "import pylab as pl\n",
    "import matplotlib.cm as cm\n",
    "import numpy as np\n",
    "np.random.seed(1337) # for reproducibility\n",
    "\n",
    "from keras.datasets import mnist\n",
    "from keras.models import Sequential\n",
    "from keras.layers.core import Dense, Dropout, Activation, Flatten\n",
    "from keras.layers.convolutional import Conv2D, MaxPooling2D\n",
    "from keras.utils import np_utils\n"
   ]
  },
  {
   "cell_type": "code",
   "execution_count": 2,
   "metadata": {},
   "outputs": [],
   "source": [
    "np.set_printoptions(precision=5, suppress=True)\n"
   ]
  },
  {
   "cell_type": "code",
   "execution_count": 3,
   "metadata": {},
   "outputs": [
    {
     "name": "stdout",
     "output_type": "stream",
     "text": [
      "X_train shape: (60000, 28, 28, 1)\n",
      "60000 train samples\n",
      "10000 test samples\n"
     ]
    }
   ],
   "source": [
    "nb_classes = 10\n",
    "\n",
    "# the data, shuffled and split between tran and test sets\n",
    "(X_train, y_train), (X_test, y_test) = mnist.load_data()\n",
    "\n",
    "#X_train = X_train.reshape(X_train.shape[0], 1, 28, 28)\n",
    "#X_test = X_test.reshape(X_test.shape[0], 1, 28, 28)\n",
    "X_train = X_train.reshape(X_train.shape[0], 28, 28, 1)\n",
    "X_test = X_test.reshape(X_test.shape[0], 28, 28, 1)\n",
    "X_train = X_train.astype(\"float32\")\n",
    "X_test = X_test.astype(\"float32\")\n",
    "X_train /= 255\n",
    "X_test /= 255\n",
    "print('X_train shape:', X_train.shape)\n",
    "print(X_train.shape[0], 'train samples')\n",
    "print(X_test.shape[0], 'test samples')\n",
    "\n",
    "# convert class vectors to binary class matrices\n",
    "Y_train = np_utils.to_categorical(y_train, nb_classes)\n",
    "Y_test = np_utils.to_categorical(y_test, nb_classes)"
   ]
  },
  {
   "cell_type": "code",
   "execution_count": 4,
   "metadata": {},
   "outputs": [
    {
     "name": "stdout",
     "output_type": "stream",
     "text": [
      "label :  [0. 0. 0. 0. 0. 1. 0. 0. 0. 0.]\n"
     ]
    },
    {
     "data": {
      "image/png": "[encoded data removed]",
      "text/plain": [
       "<Figure size 432x288 with 1 Axes>"
      ]
     },
     "metadata": {},
     "output_type": "display_data"
    }
   ],
   "source": [
    "i = 4600\n",
    "print(\"label : \", Y_train[i,:])\n",
    "sample = X_train[i, ...]\n",
    "sample.shape\n",
    "pl.imshow(X_train[i,:, :, 0], interpolation='nearest', cmap=cm.gray)\n",
    "pl.show()"
   ]
  },
  {
   "cell_type": "code",
   "execution_count": 5,
   "metadata": {},
   "outputs": [],
   "source": [
    "model = Sequential()\n",
    "\n",
    "convout1 = Conv2D(32, (3, 3), strides=(1, 1), padding='same', input_shape=(28, 28, 1), activation='relu')\n",
    "model.add(convout1)\n",
    "\n",
    "convout2 = Conv2D(32, (3, 3), strides=(1, 1), padding='same', activation='relu')\n",
    "model.add(convout2)\n",
    "model.add(MaxPooling2D(pool_size=(2, 2), strides=(1, 1)))\n",
    "model.add(Flatten())\n",
    "model.add(Dense(128))\n",
    "model.add(Activation('relu'))\n",
    "model.add(Dropout(0.5))\n",
    "\n",
    "model.add(Dense(nb_classes))\n",
    "model.add(Activation('softmax'))\n",
    "\n",
    "model.compile(loss='categorical_crossentropy', optimizer='adadelta', metrics=['accuracy'])"
   ]
  },
  {
   "cell_type": "code",
   "execution_count": 6,
   "metadata": {},
   "outputs": [
    {
     "name": "stdout",
     "output_type": "stream",
     "text": [
      "Train on 60000 samples, validate on 10000 samples\n",
      "Epoch 1/10\n",
      "60000/60000 [==============================] - 96s 2ms/step - loss: 0.2572 - acc: 0.9219 - val_loss: 0.0631 - val_acc: 0.9813\n",
      "Epoch 2/10\n",
      "60000/60000 [==============================] - 81s 1ms/step - loss: 0.0839 - acc: 0.9748 - val_loss: 0.0371 - val_acc: 0.9879\n",
      "Epoch 3/10\n",
      "60000/60000 [==============================] - 82s 1ms/step - loss: 0.0598 - acc: 0.9822 - val_loss: 0.0315 - val_acc: 0.9896\n",
      "Epoch 4/10\n",
      "60000/60000 [==============================] - 83s 1ms/step - loss: 0.0481 - acc: 0.9860 - val_loss: 0.0348 - val_acc: 0.9885\n",
      "Epoch 5/10\n",
      "60000/60000 [==============================] - 83s 1ms/step - loss: 0.0403 - acc: 0.9883 - val_loss: 0.0313 - val_acc: 0.9896\n",
      "Epoch 6/10\n",
      "60000/60000 [==============================] - 82s 1ms/step - loss: 0.0353 - acc: 0.9893 - val_loss: 0.0291 - val_acc: 0.9912\n",
      "Epoch 7/10\n",
      "60000/60000 [==============================] - 82s 1ms/step - loss: 0.0296 - acc: 0.9910 - val_loss: 0.0292 - val_acc: 0.9905\n",
      "Epoch 8/10\n",
      "60000/60000 [==============================] - 81s 1ms/step - loss: 0.0267 - acc: 0.9916 - val_loss: 0.0306 - val_acc: 0.9906\n",
      "Epoch 9/10\n",
      "60000/60000 [==============================] - 81s 1ms/step - loss: 0.0235 - acc: 0.9925 - val_loss: 0.0351 - val_acc: 0.9899\n",
      "Epoch 10/10\n",
      "60000/60000 [==============================] - 81s 1ms/step - loss: 0.0215 - acc: 0.9931 - val_loss: 0.0251 - val_acc: 0.9920\n",
      "Test score: 0.025120064010847362\n",
      "Test accuracy: 0.992\n"
     ]
    }
   ],
   "source": [
    "import os\n",
    "import h5py\n",
    "WEIGHTS_FNAME = 'mnist_cnn_weights_v1.hdf'\n",
    "if True and os.path.exists(WEIGHTS_FNAME):\n",
    "    # Just change the True to false to force re-training\n",
    "    print('Loading existing weights')\n",
    "    model.load_weights(WEIGHTS_FNAME)\n",
    "else:\n",
    "    batch_size = 128\n",
    "    nb_epoch = 10\n",
    "    model.fit(X_train, Y_train, batch_size=batch_size, epochs=nb_epoch,\n",
    "              verbose=1, validation_data=(X_test, Y_test))\n",
    "#    model.save_weights(WEIGHTS_FNAME, overwrite=True)\n",
    "score = model.evaluate(X_test, Y_test, verbose=0)\n",
    "print('Test score:', score[0])\n",
    "print('Test accuracy:', score[1])"
   ]
  },
  {
   "cell_type": "code",
   "execution_count": 14,
   "metadata": {
    "scrolled": false
   },
   "outputs": [
    {
     "name": "stdout",
     "output_type": "stream",
     "text": [
      "[[0. 0. 1. 0. 0. 0. 0. 0. 0. 0.]\n",
      " [0. 1. 0. 0. 0. 0. 0. 0. 0. 0.]\n",
      " [1. 0. 0. 0. 0. 0. 0. 0. 0. 0.]\n",
      " [0. 0. 0. 0. 1. 0. 0. 0. 0. 0.]]\n",
      "[[0. 0. 1. 0. 0. 0. 0. 0. 0. 0.]\n",
      " [0. 1. 0. 0. 0. 0. 0. 0. 0. 0.]\n",
      " [1. 0. 0. 0. 0. 0. 0. 0. 0. 0.]\n",
      " [0. 0. 0. 0. 1. 0. 0. 0. 0. 0.]]\n",
      "             precision    recall  f1-score   support\n",
      "\n",
      "          0       0.99      1.00      0.99       980\n",
      "          1       1.00      1.00      1.00      1135\n",
      "          2       0.99      0.99      0.99      1032\n",
      "          3       0.99      0.99      0.99      1010\n",
      "          4       1.00      0.99      0.99       982\n",
      "          5       0.99      0.99      0.99       892\n",
      "          6       0.99      0.99      0.99       958\n",
      "          7       0.99      0.99      0.99      1028\n",
      "          8       0.99      0.99      0.99       974\n",
      "          9       0.99      0.99      0.99      1009\n",
      "\n",
      "avg / total       0.99      0.99      0.99     10000\n",
      "\n",
      "[[ 978    0    0    0    0    0    1    1    0    0]\n",
      " [   0 1132    1    0    0    1    0    0    1    0]\n",
      " [   1    1 1025    0    0    0    0    5    0    0]\n",
      " [   0    0    2 1004    0    3    0    0    1    0]\n",
      " [   0    0    0    0  970    0    4    0    1    7]\n",
      " [   1    0    0    4    0  886    1    0    0    0]\n",
      " [   5    2    0    1    1    1  947    0    1    0]\n",
      " [   0    2    5    1    0    0    0 1017    1    2]\n",
      " [   2    0    2    1    0    0    1    1  965    2]\n",
      " [   0    0    0    1    3    3    0    4    2  996]]\n"
     ]
    }
   ],
   "source": [
    "np.set_printoptions(precision=3, suppress=True)\n",
    "print(model.predict(X_test[1:5]))\n",
    "print(Y_test[1:5])\n",
    "\n",
    "Y_pred = model.predict(X_test)\n",
    "# Convert one-hot to index\n",
    "y_pred = np.argmax(Y_pred, axis=1)\n",
    "\n",
    "from sklearn.metrics import classification_report, confusion_matrix\n",
    "print(classification_report(y_test, y_pred))\n",
    "print(confusion_matrix(y_test, y_pred))\n"
   ]
  },
  {
   "cell_type": "code",
   "execution_count": 31,
   "metadata": {},
   "outputs": [
    {
     "name": "stdout",
     "output_type": "stream",
     "text": [
      "[ 247  259  321  340  445  449  582  619  659  740  882  947 1014 1039\n",
      " 1112 1226 1232 1242 1260 1414 1522 1527 1530 1549 1621 1709 1790 1878\n",
      " 1901 2035 2043 2118 2129 2130 2135 2293 2462 2597 2654 2896 2921 2927\n",
      " 2939 2953 3060 3073 3422 3520 3558 3726 3727 3808 3941 4007 4176 4238\n",
      " 4289 4571 4740 4761 4807 4814 4860 5937 5955 6091 6166 6576 6597 6625\n",
      " 8408 8527 9009 9015 9019 9664 9679 9692 9729 9792]\n",
      "(80,)\n",
      "[(4, 6), (6, 0), (2, 7), (5, 3), (6, 0), (3, 5), (8, 2), (1, 8), (2, 1), (4, 9), (9, 7), (8, 9), (6, 5), (7, 2), (4, 6), (7, 2), (9, 4), (4, 9), (7, 1), (9, 7), (7, 9), (1, 5), (8, 7), (4, 6), (0, 6), (9, 5), (2, 7), (8, 3), (9, 4), (5, 3), (4, 8), (6, 0), (9, 8), (4, 9), (6, 1), (9, 4), (2, 0), (5, 3), (6, 1), (8, 0), (3, 2), (3, 2), (9, 5), (3, 5), (9, 7), (1, 2), (6, 0), (6, 4), (5, 0), (4, 9), (8, 9), (7, 8), (4, 6), (7, 9), (2, 7), (7, 3), (2, 7), (6, 8), (3, 5), (9, 8), (8, 0), (6, 0), (4, 9), (5, 3), (3, 8), (9, 5), (9, 3), (7, 1), (0, 7), (8, 2), (8, 6), (4, 9), (7, 2), (7, 2), (7, 2), (2, 7), (6, 3), (9, 7), (5, 6), (4, 9)]\n"
     ]
    }
   ],
   "source": [
    "# next, we want to see an example of a mistaken number.  we can get an array of all \n",
    "#  mis-classified test items by using np.where\n",
    "mis_idx = np.where(y_test != y_pred)[0]\n",
    "print(mis_idx)\n",
    "print(mis_idx.shape)\n",
    "print(list(zip(y_test[mis_idx], y_pred[mis_idx])))"
   ]
  },
  {
   "cell_type": "code",
   "execution_count": 25,
   "metadata": {},
   "outputs": [],
   "source": [
    "# Visualize a convolved image\n",
    "from keras import backend as K\n",
    "\n",
    "# K.learning_phase() is a flag that indicates if the network is in training or\n",
    "# predict phase. It allow layer (e.g. Dropout) to only be applied during training\n",
    "inputs = [K.learning_phase()] + model.inputs\n",
    "\n",
    "_convout1_f = K.function(inputs, [convout1.output])\n",
    "def convout1_f(X):\n",
    "    # The [0] is to disable the training phase flag\n",
    "    return _convout1_f([0] + [X])"
   ]
  },
  {
   "cell_type": "code",
   "execution_count": 26,
   "metadata": {},
   "outputs": [],
   "source": [
    "# utility functions\n",
    "from mpl_toolkits.axes_grid1 import make_axes_locatable\n",
    "\n",
    "def nice_imshow(ax, data, vmin=None, vmax=None, cmap=None):\n",
    "    \"\"\"Wrapper around pl.imshow\"\"\"\n",
    "    if cmap is None:\n",
    "        cmap = cm.jet\n",
    "    if vmin is None:\n",
    "        vmin = data.min()\n",
    "    if vmax is None:\n",
    "        vmax = data.max()\n",
    "    divider = make_axes_locatable(ax)\n",
    "    cax = divider.append_axes(\"right\", size=\"5%\", pad=0.05)\n",
    "    im = ax.imshow(data, vmin=vmin, vmax=vmax, interpolation='nearest', cmap=cmap)\n",
    "    pl.colorbar(im, cax=cax)"
   ]
  },
  {
   "cell_type": "code",
   "execution_count": 28,
   "metadata": {},
   "outputs": [
    {
     "name": "stdout",
     "output_type": "stream",
     "text": [
      "(1, 28, 28, 1)\n",
      "target: 4\n",
      "predicted: 6\n"
     ]
    },
    {
     "data": {
      "image/png": "[encoded data removed]",
      "text/plain": [
       "<Figure size 432x288 with 2 Axes>"
      ]
     },
     "metadata": {},
     "output_type": "display_data"
    }
   ],
   "source": [
    "i = mis_idx[0]\n",
    "\n",
    "# Visualize the first layer of convolutions on an input image\n",
    "X = X_test[i:i+1]\n",
    "print(X.shape)\n",
    "print(\"target: {}\".format(y_test[i]))\n",
    "print(\"predicted: {}\".format(y_pred[i]))\n",
    "X.reshape(28, 28)\n",
    "pl.figure()\n",
    "pl.title('input')\n",
    "nice_imshow(pl.gca(), np.squeeze(X), vmin=0, vmax=1, cmap=cm.gray)\n",
    "pl.show()"
   ]
  },
  {
   "cell_type": "code",
   "execution_count": 32,
   "metadata": {},
   "outputs": [],
   "source": [
    "import numpy.ma as ma\n",
    "def make_mosaic(imgs, nrows, ncols, border=1):\n",
    "    \"\"\"\n",
    "    Given a set of images with all the same shape, makes a\n",
    "    mosaic with nrows and ncols\n",
    "    \"\"\"\n",
    "    nimgs = imgs.shape[2]\n",
    "    print(nimgs)\n",
    "    imshape = imgs.shape[:2]\n",
    "    print(imshape)\n",
    "    mosaic = ma.masked_all((nrows * imshape[0] + (nrows - 1) * border,\n",
    "                            ncols * imshape[1] + (ncols - 1) * border),\n",
    "                            dtype=np.float32)\n",
    "    \n",
    "    paddedh = imshape[0] + border\n",
    "    paddedw = imshape[1] + border\n",
    "    for i in range(nimgs):\n",
    "        row = int(np.floor(i / ncols))\n",
    "        col = i % ncols\n",
    "        \n",
    "        mosaic[row * paddedh:row * paddedh + imshape[0],\n",
    "               col * paddedw:col * paddedw + imshape[1]] = imgs[:, :,i]\n",
    "    return mosaic\n"
   ]
  },
  {
   "cell_type": "code",
   "execution_count": 33,
   "metadata": {},
   "outputs": [
    {
     "name": "stdout",
     "output_type": "stream",
     "text": [
      "9\n",
      "<class 'keras.layers.convolutional.Conv2D'>\n",
      "W shape :  (3, 3, 32)\n",
      "32\n",
      "(3, 3)\n"
     ]
    },
    {
     "data": {
      "image/png": "[encoded data removed]",
      "text/plain": [
       "<Figure size 1080x1080 with 2 Axes>"
      ]
     },
     "metadata": {},
     "output_type": "display_data"
    }
   ],
   "source": [
    "# Visualize weights\n",
    "print(len(model.layers))\n",
    "print(type(model.layers[0]))\n",
    "#print(model.layers[0].get_weights()[0])\n",
    "W = model.layers[0].get_weights()[0]\n",
    "W = np.squeeze(W)\n",
    "print(\"W shape : \", W.shape)\n",
    "\n",
    "pl.figure(figsize=(15, 15))\n",
    "pl.title('conv1 weights')\n",
    "nice_imshow(pl.gca(), make_mosaic(W, 6, 6), cmap=cm.binary)\n",
    "pl.show()"
   ]
  },
  {
   "cell_type": "code",
   "execution_count": 34,
   "metadata": {
    "scrolled": false
   },
   "outputs": [
    {
     "name": "stdout",
     "output_type": "stream",
     "text": [
      "C1 shape :  (28, 28, 32)\n",
      "32\n",
      "(28, 28)\n"
     ]
    },
    {
     "data": {
      "image/png": "[encoded data removed]",
      "text/plain": [
       "<Figure size 1080x1080 with 2 Axes>"
      ]
     },
     "metadata": {},
     "output_type": "display_data"
    }
   ],
   "source": [
    "# Visualize convolution result (after activation)\n",
    "C1 = convout1_f(X)\n",
    "C1 = np.squeeze(C1)\n",
    "print(\"C1 shape : \", C1.shape)\n",
    "\n",
    "pl.figure(figsize=(15, 15))\n",
    "pl.suptitle('convout1')\n",
    "nice_imshow(pl.gca(), make_mosaic(C1, 6, 6), cmap=cm.binary)\n",
    "pl.show()"
   ]
  },
  {
   "cell_type": "code",
   "execution_count": null,
   "metadata": {},
   "outputs": [],
   "source": []
  }
 ],
 "metadata": {
  "kernelspec": {
   "display_name": "Python 3",
   "language": "python",
   "name": "python3"
  },
  "language_info": {
   "codemirror_mode": {
    "name": "ipython",
    "version": 3
   },
   "file_extension": ".py",
   "mimetype": "text/x-python",
   "name": "python",
   "nbconvert_exporter": "python",
   "pygments_lexer": "ipython3",
   "version": "3.5.4"
  }
 },
 "nbformat": 4,
 "nbformat_minor": 2
}
