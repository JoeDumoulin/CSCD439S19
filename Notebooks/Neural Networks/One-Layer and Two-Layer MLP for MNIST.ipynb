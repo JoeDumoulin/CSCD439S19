{
 "cells": [
  {
   "cell_type": "code",
   "execution_count": 2,
   "metadata": {},
   "outputs": [
    {
     "name": "stderr",
     "output_type": "stream",
     "text": [
      "/Users/jdumoulin/Envs/python3notebooks/lib/python3.5/site-packages/h5py/__init__.py:36: FutureWarning: Conversion of the second argument of issubdtype from `float` to `np.floating` is deprecated. In future, it will be treated as `np.float64 == np.dtype(float).type`.\n",
      "  from ._conv import register_converters as _register_converters\n",
      "Using TensorFlow backend.\n",
      "/Users/jdumoulin/Envs/python3notebooks/lib/python3.5/importlib/_bootstrap.py:222: RuntimeWarning: compiletime version 3.6 of module 'tensorflow.python.framework.fast_tensor_util' does not match runtime version 3.5\n",
      "  return f(*args, **kwds)\n"
     ]
    },
    {
     "name": "stdout",
     "output_type": "stream",
     "text": [
      "(60000, 28, 28)\n",
      "(60000,)\n",
      "(10000, 28, 28)\n",
      "(10000,)\n"
     ]
    }
   ],
   "source": [
    "import numpy as np\n",
    "from keras.datasets import mnist\n",
    "from keras.utils import to_categorical\n",
    "import pylab as plt\n",
    "import matplotlib.cm as cm\n",
    "\n",
    "(x_train, y_train), (x_test, y_test) = mnist.load_data()\n",
    "\n",
    "# What does the data look like?\n",
    "print(x_train.shape)\n",
    "print(y_train.shape)\n",
    "print(x_test.shape)\n",
    "print(y_test.shape)"
   ]
  },
  {
   "cell_type": "code",
   "execution_count": 3,
   "metadata": {},
   "outputs": [
    {
     "name": "stdout",
     "output_type": "stream",
     "text": [
      "label :  8\n"
     ]
    },
    {
     "data": {
      "image/png": "[encoded data removed]",
      "text/plain": [
       "<Figure size 432x288 with 1 Axes>"
      ]
     },
     "metadata": {},
     "output_type": "display_data"
    }
   ],
   "source": [
    "# x_train is 60,000 images, so let's look at one of the images\n",
    "i = np.where(y_train==8)[0][0]\n",
    "print(\"label : \", y_train[i])\n",
    "sample = x_train[i, ...]\n",
    "sample.shape\n",
    "plt.imshow(sample, cmap=cm.gray)\n",
    "plt.show()"
   ]
  },
  {
   "cell_type": "code",
   "execution_count": 4,
   "metadata": {},
   "outputs": [
    {
     "name": "stdout",
     "output_type": "stream",
     "text": [
      "(60000, 784)\n"
     ]
    }
   ],
   "source": [
    "# the data should be in a flat array for each sample, so we will reshape from 28 * 28 to 784\n",
    "x_train = x_train.reshape(60000,28*28)\n",
    "print(x_train.shape)\n",
    "\n",
    "# We will one-hot encode the labels\n",
    "y_train = to_categorical(y_train)"
   ]
  },
  {
   "cell_type": "code",
   "execution_count": 5,
   "metadata": {},
   "outputs": [
    {
     "name": "stdout",
     "output_type": "stream",
     "text": [
      "(60000, 10)\n",
      "label :  [0. 0. 0. 0. 0. 0. 0. 0. 1. 0.]\n"
     ]
    }
   ],
   "source": [
    "print(y_train.shape)\n",
    "print(\"label : \", y_train[i, :])"
   ]
  },
  {
   "cell_type": "code",
   "execution_count": 9,
   "metadata": {},
   "outputs": [],
   "source": [
    "# ok now let's get a cross-validation set from the training data.\n",
    "from sklearn.model_selection import train_test_split\n",
    "x_train_part, x_train_val, y_train_part, y_train_val = \\\n",
    "    train_test_split(x_train, y_train, test_size=0.2, random_state=42, stratify=np.argmax(y_train, axis=1))"
   ]
  },
  {
   "cell_type": "code",
   "execution_count": 32,
   "metadata": {},
   "outputs": [],
   "source": [
    "# now we will define the logistic regression classification model.\n",
    "from keras import models\n",
    "from keras import layers\n",
    "from keras import optimizers\n",
    "\n",
    "model1 = models.Sequential()\n",
    "model1.add(layers.Dense(16, activation='relu', input_shape=(784,)))\n",
    "model1.add(layers.Dense(10, activation='softmax'))\n",
    "\n",
    "#compile the model\n",
    "model1.compile(optimizer=\"rmsprop\",\n",
    "    #optimizer=optimizers.RMSprop(lr=0.001, rho=0.9, epsilon=None, decay=0.0),\n",
    "             loss='categorical_crossentropy',\n",
    "             metrics=['accuracy'])"
   ]
  },
  {
   "cell_type": "code",
   "execution_count": 33,
   "metadata": {},
   "outputs": [
    {
     "name": "stdout",
     "output_type": "stream",
     "text": [
      "Train on 48000 samples, validate on 12000 samples\n",
      "Epoch 1/25\n",
      "48000/48000 [==============================] - 1s 11us/step - loss: 6.2079 - acc: 0.4947 - val_loss: 2.4353 - val_acc: 0.5072\n",
      "Epoch 2/25\n",
      "48000/48000 [==============================] - 0s 4us/step - loss: 1.8312 - acc: 0.4967 - val_loss: 1.5193 - val_acc: 0.5548\n",
      "Epoch 3/25\n",
      "48000/48000 [==============================] - 0s 4us/step - loss: 1.3668 - acc: 0.6239 - val_loss: 1.2651 - val_acc: 0.6505\n",
      "Epoch 4/25\n",
      "48000/48000 [==============================] - 0s 4us/step - loss: 1.1633 - acc: 0.6933 - val_loss: 1.1644 - val_acc: 0.7062\n",
      "Epoch 5/25\n",
      "48000/48000 [==============================] - 0s 4us/step - loss: 1.0359 - acc: 0.7375 - val_loss: 1.0740 - val_acc: 0.7300\n",
      "Epoch 6/25\n",
      "48000/48000 [==============================] - 0s 4us/step - loss: 0.9282 - acc: 0.7626 - val_loss: 0.9702 - val_acc: 0.7617\n",
      "Epoch 7/25\n",
      "48000/48000 [==============================] - 0s 4us/step - loss: 0.8601 - acc: 0.7800 - val_loss: 0.9377 - val_acc: 0.7560\n",
      "Epoch 8/25\n",
      "48000/48000 [==============================] - 0s 4us/step - loss: 0.8086 - acc: 0.7943 - val_loss: 0.8637 - val_acc: 0.7971\n",
      "Epoch 9/25\n",
      "48000/48000 [==============================] - 0s 4us/step - loss: 0.7618 - acc: 0.8063 - val_loss: 0.8339 - val_acc: 0.8002\n",
      "Epoch 10/25\n",
      "48000/48000 [==============================] - 0s 4us/step - loss: 0.7223 - acc: 0.8185 - val_loss: 0.7797 - val_acc: 0.8192\n",
      "Epoch 11/25\n",
      "48000/48000 [==============================] - 0s 4us/step - loss: 0.6852 - acc: 0.8290 - val_loss: 0.7631 - val_acc: 0.8203\n",
      "Epoch 12/25\n",
      "48000/48000 [==============================] - 0s 4us/step - loss: 0.6521 - acc: 0.8356 - val_loss: 0.7236 - val_acc: 0.8127\n",
      "Epoch 13/25\n",
      "48000/48000 [==============================] - 0s 4us/step - loss: 0.6207 - acc: 0.8356 - val_loss: 0.6977 - val_acc: 0.8172\n",
      "Epoch 14/25\n",
      "48000/48000 [==============================] - 0s 4us/step - loss: 0.5889 - acc: 0.8302 - val_loss: 0.6801 - val_acc: 0.8211\n",
      "Epoch 15/25\n",
      "48000/48000 [==============================] - 0s 4us/step - loss: 0.5526 - acc: 0.8324 - val_loss: 0.6313 - val_acc: 0.8230\n",
      "Epoch 16/25\n",
      "48000/48000 [==============================] - 0s 4us/step - loss: 0.5185 - acc: 0.8414 - val_loss: 0.5807 - val_acc: 0.8310\n",
      "Epoch 17/25\n",
      "48000/48000 [==============================] - 0s 4us/step - loss: 0.4926 - acc: 0.8459 - val_loss: 0.5760 - val_acc: 0.8255\n",
      "Epoch 18/25\n",
      "48000/48000 [==============================] - 0s 4us/step - loss: 0.4687 - acc: 0.8477 - val_loss: 0.5355 - val_acc: 0.8380\n",
      "Epoch 19/25\n",
      "48000/48000 [==============================] - 0s 4us/step - loss: 0.4446 - acc: 0.8565 - val_loss: 0.5237 - val_acc: 0.8535\n",
      "Epoch 20/25\n",
      "48000/48000 [==============================] - 0s 4us/step - loss: 0.4214 - acc: 0.8660 - val_loss: 0.4906 - val_acc: 0.8622\n",
      "Epoch 21/25\n",
      "48000/48000 [==============================] - 0s 4us/step - loss: 0.3996 - acc: 0.8804 - val_loss: 0.4783 - val_acc: 0.8812\n",
      "Epoch 22/25\n",
      "48000/48000 [==============================] - 0s 4us/step - loss: 0.3823 - acc: 0.8956 - val_loss: 0.4828 - val_acc: 0.8817\n",
      "Epoch 23/25\n",
      "48000/48000 [==============================] - 0s 4us/step - loss: 0.3642 - acc: 0.9000 - val_loss: 0.4355 - val_acc: 0.8947\n",
      "Epoch 24/25\n",
      "48000/48000 [==============================] - 0s 4us/step - loss: 0.3468 - acc: 0.9054 - val_loss: 0.4303 - val_acc: 0.8971\n",
      "Epoch 25/25\n",
      "48000/48000 [==============================] - 0s 4us/step - loss: 0.3334 - acc: 0.9101 - val_loss: 0.4214 - val_acc: 0.8973\n"
     ]
    }
   ],
   "source": [
    "# now fit the model...\n",
    "eps = 25\n",
    "history = model1.fit(x_train_part,\n",
    "                    y_train_part,\n",
    "                    batch_size=1024,\n",
    "                    epochs=eps,\n",
    "                    validation_data=(x_train_val, y_train_val))"
   ]
  },
  {
   "cell_type": "code",
   "execution_count": 34,
   "metadata": {},
   "outputs": [
    {
     "data": {
      "image/png": "[encoded data removed]",
      "text/plain": [
       "<Figure size 432x288 with 1 Axes>"
      ]
     },
     "metadata": {},
     "output_type": "display_data"
    }
   ],
   "source": [
    "# plot the learning parameters\n",
    "import matplotlib.pyplot as plt\n",
    "\n",
    "history_dict = history.history\n",
    "loss_values = history_dict['loss']\n",
    "val_loss_values = history_dict['val_loss']\n",
    "\n",
    "epochs = range(1, eps + 1)\n",
    "\n",
    "plt.plot(epochs, loss_values, 'g', label='Training Loss')\n",
    "plt.plot(epochs, val_loss_values, 'b', label='Validation Loss')\n",
    "plt.title('Training and Validation Loss')\n",
    "plt.xlabel('Epochs')\n",
    "plt.ylabel('Loss')\n",
    "plt.legend()\n",
    "\n",
    "plt.show()"
   ]
  },
  {
   "cell_type": "code",
   "execution_count": 35,
   "metadata": {},
   "outputs": [
    {
     "data": {
      "image/png": "[encoded data removed]",
      "text/plain": [
       "<Figure size 432x288 with 1 Axes>"
      ]
     },
     "metadata": {},
     "output_type": "display_data"
    }
   ],
   "source": [
    "plt.clf()\n",
    "\n",
    "acc_values = history_dict['acc']\n",
    "val_acc_values = history_dict['val_acc']\n",
    "\n",
    "plt.plot(epochs, acc_values, 'g', label='Training Accuracy')\n",
    "plt.plot(epochs, val_acc_values, 'b', label='Validation Accuracy')\n",
    "plt.title('Training and Validation Accuracy')\n",
    "plt.xlabel('Epochs')\n",
    "plt.ylabel('Accuracy')\n",
    "plt.legend()\n",
    "\n",
    "plt.show()"
   ]
  },
  {
   "cell_type": "code",
   "execution_count": 36,
   "metadata": {},
   "outputs": [
    {
     "data": {
      "text/plain": [
       "array([[ 928,    0,    2,    1,    0,   10,   19,    3,   17,    0],\n",
       "       [   0, 1103,    0,    7,    0,    0,    5,    1,   19,    0],\n",
       "       [   9,    3,  904,   35,    2,    5,    8,   10,   52,    4],\n",
       "       [   1,    2,   14,  921,    0,   26,    0,   11,   32,    3],\n",
       "       [   2,    2,    3,    0,  863,    0,   19,    3,   22,   68],\n",
       "       [  18,    1,    0,  120,    2,  695,   10,    0,   35,   11],\n",
       "       [   6,    3,    2,    4,    3,   13,  912,    1,   14,    0],\n",
       "       [   4,    3,   21,   20,    2,    1,    0,  946,    8,   23],\n",
       "       [  10,    3,    2,  123,    8,   24,    3,    5,  775,   21],\n",
       "       [   7,    3,    0,   14,   11,   10,    0,    7,   18,  939]])"
      ]
     },
     "execution_count": 36,
     "metadata": {},
     "output_type": "execute_result"
    }
   ],
   "source": [
    "# That wasn't too bad.  Over 80% accuracy.  Let's look at the confusion\n",
    "from sklearn.metrics import confusion_matrix, classification_report\n",
    "\n",
    "y_pred = model1.predict(x_test.reshape(10000, 28*28))\n",
    "y_pred_test = np.argmax(y_pred, axis=1)\n",
    "\n",
    "confusion_matrix(y_test, y_pred_test)"
   ]
  },
  {
   "cell_type": "code",
   "execution_count": 37,
   "metadata": {},
   "outputs": [
    {
     "name": "stdout",
     "output_type": "stream",
     "text": [
      "             precision    recall  f1-score   support\n",
      "\n",
      "          0       0.94      0.95      0.94       980\n",
      "          1       0.98      0.97      0.98      1135\n",
      "          2       0.95      0.88      0.91      1032\n",
      "          3       0.74      0.91      0.82      1010\n",
      "          4       0.97      0.88      0.92       982\n",
      "          5       0.89      0.78      0.83       892\n",
      "          6       0.93      0.95      0.94       958\n",
      "          7       0.96      0.92      0.94      1028\n",
      "          8       0.78      0.80      0.79       974\n",
      "          9       0.88      0.93      0.90      1009\n",
      "\n",
      "avg / total       0.90      0.90      0.90     10000\n",
      "\n"
     ]
    }
   ],
   "source": [
    "print(classification_report(y_test, y_pred_test))"
   ]
  },
  {
   "cell_type": "code",
   "execution_count": 38,
   "metadata": {},
   "outputs": [],
   "source": [
    "# Two hidden layers.\n",
    "model2 = models.Sequential()\n",
    "model2.add(layers.Dense(32, activation='relu', input_shape=(784,)))\n",
    "model2.add(layers.Dense(16, activation='relu'))\n",
    "model2.add(layers.Dense(10, activation='softmax'))\n",
    "\n",
    "#compile the model\n",
    "model2.compile(optimizer=\"rmsprop\",\n",
    "    #optimizer=optimizers.RMSprop(lr=0.001, rho=0.9, epsilon=None, decay=0.0),\n",
    "             loss='categorical_crossentropy',\n",
    "             metrics=['accuracy'])"
   ]
  },
  {
   "cell_type": "code",
   "execution_count": 13,
   "metadata": {},
   "outputs": [
    {
     "name": "stdout",
     "output_type": "stream",
     "text": [
      "Train on 48000 samples, validate on 12000 samples\n",
      "Epoch 1/25\n",
      "48000/48000 [==============================] - 1s 12us/step - loss: 6.6358 - acc: 0.3866 - val_loss: 1.9284 - val_acc: 0.4142\n",
      "Epoch 2/25\n",
      "48000/48000 [==============================] - 0s 8us/step - loss: 1.6249 - acc: 0.4846 - val_loss: 1.4305 - val_acc: 0.5597\n",
      "Epoch 3/25\n",
      "48000/48000 [==============================] - 0s 8us/step - loss: 1.3007 - acc: 0.6001 - val_loss: 1.2493 - val_acc: 0.6353\n",
      "Epoch 4/25\n",
      "48000/48000 [==============================] - 0s 9us/step - loss: 1.1520 - acc: 0.6501 - val_loss: 1.1236 - val_acc: 0.6511\n",
      "Epoch 5/25\n",
      "48000/48000 [==============================] - 0s 8us/step - loss: 1.0638 - acc: 0.6734 - val_loss: 1.0690 - val_acc: 0.6731\n",
      "Epoch 6/25\n",
      "48000/48000 [==============================] - 0s 9us/step - loss: 0.9965 - acc: 0.6918 - val_loss: 1.0041 - val_acc: 0.7047\n",
      "Epoch 7/25\n",
      "48000/48000 [==============================] - 0s 8us/step - loss: 0.9420 - acc: 0.7013 - val_loss: 0.9634 - val_acc: 0.7086\n",
      "Epoch 8/25\n",
      "48000/48000 [==============================] - 0s 9us/step - loss: 0.8903 - acc: 0.7123 - val_loss: 0.9408 - val_acc: 0.7179\n",
      "Epoch 9/25\n",
      "48000/48000 [==============================] - 0s 9us/step - loss: 0.8588 - acc: 0.7159 - val_loss: 0.9452 - val_acc: 0.7216\n",
      "Epoch 10/25\n",
      "48000/48000 [==============================] - 0s 8us/step - loss: 0.8146 - acc: 0.7254 - val_loss: 0.8680 - val_acc: 0.7280\n",
      "Epoch 11/25\n",
      "48000/48000 [==============================] - 0s 9us/step - loss: 0.7900 - acc: 0.7290 - val_loss: 0.8254 - val_acc: 0.7332\n",
      "Epoch 12/25\n",
      "48000/48000 [==============================] - 0s 9us/step - loss: 0.7366 - acc: 0.7567 - val_loss: 0.7460 - val_acc: 0.7688\n",
      "Epoch 13/25\n",
      "48000/48000 [==============================] - 0s 8us/step - loss: 0.6280 - acc: 0.8123 - val_loss: 0.6783 - val_acc: 0.8101\n",
      "Epoch 14/25\n",
      "48000/48000 [==============================] - 0s 8us/step - loss: 0.5871 - acc: 0.8354 - val_loss: 0.6617 - val_acc: 0.8754\n",
      "Epoch 15/25\n",
      "48000/48000 [==============================] - 0s 8us/step - loss: 0.4997 - acc: 0.8701 - val_loss: 0.5379 - val_acc: 0.8528\n",
      "Epoch 16/25\n",
      "48000/48000 [==============================] - 0s 9us/step - loss: 0.4408 - acc: 0.8751 - val_loss: 0.5549 - val_acc: 0.8728\n",
      "Epoch 17/25\n",
      "48000/48000 [==============================] - 0s 9us/step - loss: 0.4008 - acc: 0.8861 - val_loss: 0.4813 - val_acc: 0.8972\n",
      "Epoch 18/25\n",
      "48000/48000 [==============================] - 0s 9us/step - loss: 0.3781 - acc: 0.9028 - val_loss: 0.4706 - val_acc: 0.9013\n",
      "Epoch 19/25\n",
      "48000/48000 [==============================] - 0s 10us/step - loss: 0.3603 - acc: 0.9118 - val_loss: 0.4371 - val_acc: 0.9035\n",
      "Epoch 20/25\n",
      "48000/48000 [==============================] - 0s 9us/step - loss: 0.3375 - acc: 0.9173 - val_loss: 0.4436 - val_acc: 0.9088\n",
      "Epoch 21/25\n",
      "48000/48000 [==============================] - 0s 10us/step - loss: 0.3251 - acc: 0.9216 - val_loss: 0.4161 - val_acc: 0.9094\n",
      "Epoch 22/25\n",
      "48000/48000 [==============================] - 0s 10us/step - loss: 0.3117 - acc: 0.9261 - val_loss: 0.4057 - val_acc: 0.9184\n",
      "Epoch 23/25\n",
      "48000/48000 [==============================] - 0s 9us/step - loss: 0.2923 - acc: 0.9314 - val_loss: 0.4539 - val_acc: 0.9151\n",
      "Epoch 24/25\n",
      "48000/48000 [==============================] - 0s 9us/step - loss: 0.2808 - acc: 0.9333 - val_loss: 0.4219 - val_acc: 0.9212\n",
      "Epoch 25/25\n",
      "48000/48000 [==============================] - 0s 9us/step - loss: 0.2748 - acc: 0.9361 - val_loss: 0.3922 - val_acc: 0.9229\n"
     ]
    }
   ],
   "source": [
    "# now fit the model...\n",
    "eps = 25\n",
    "history = model2.fit(x_train_part,\n",
    "                    y_train_part,\n",
    "                    batch_size=1024,\n",
    "                    epochs=eps,\n",
    "                    validation_data=(x_train_val, y_train_val))"
   ]
  },
  {
   "cell_type": "code",
   "execution_count": 14,
   "metadata": {},
   "outputs": [
    {
     "data": {
      "image/png": "[encoded data removed]",
      "text/plain": [
       "<Figure size 432x288 with 1 Axes>"
      ]
     },
     "metadata": {
      "needs_background": "light"
     },
     "output_type": "display_data"
    }
   ],
   "source": [
    "# plot the learning parameters\n",
    "import matplotlib.pyplot as plt\n",
    "\n",
    "history_dict = history.history\n",
    "loss_values = history_dict['loss']\n",
    "val_loss_values = history_dict['val_loss']\n",
    "\n",
    "epochs = range(1, eps + 1)\n",
    "\n",
    "plt.plot(epochs, loss_values, 'g', label='Training Loss')\n",
    "plt.plot(epochs, val_loss_values, 'b', label='Validation Loss')\n",
    "plt.title('Training and Validation Loss')\n",
    "plt.xlabel('Epochs')\n",
    "plt.ylabel('Loss')\n",
    "plt.legend()\n",
    "\n",
    "plt.show()"
   ]
  },
  {
   "cell_type": "code",
   "execution_count": 15,
   "metadata": {},
   "outputs": [
    {
     "data": {
      "image/png": "[encoded data removed]",
      "text/plain": [
       "<Figure size 432x288 with 1 Axes>"
      ]
     },
     "metadata": {
      "needs_background": "light"
     },
     "output_type": "display_data"
    }
   ],
   "source": [
    "plt.clf()\n",
    "\n",
    "acc_values = history_dict['acc']\n",
    "val_acc_values = history_dict['val_acc']\n",
    "\n",
    "plt.plot(epochs, acc_values, 'g', label='Training Accuracy')\n",
    "plt.plot(epochs, val_acc_values, 'b', label='Validation Accuracy')\n",
    "plt.title('Training and Validation Accuracy')\n",
    "plt.xlabel('Epochs')\n",
    "plt.ylabel('Accuracy')\n",
    "plt.legend()\n",
    "\n",
    "plt.show()"
   ]
  },
  {
   "cell_type": "code",
   "execution_count": 16,
   "metadata": {},
   "outputs": [
    {
     "data": {
      "text/plain": [
       "array([[ 940,    0,    3,    2,    0,    2,   14,    1,    3,   15],\n",
       "       [   0, 1105,    3,    4,    0,    1,    7,    0,    4,   11],\n",
       "       [   4,    0,  946,   21,    6,    6,   20,    6,   17,    6],\n",
       "       [   0,    0,   10,  936,    0,   21,    1,    6,   11,   25],\n",
       "       [   1,    0,    7,    0,  876,    0,   10,    1,    3,   84],\n",
       "       [   2,    1,    1,   20,    0,  843,    8,    0,    4,   13],\n",
       "       [   5,    2,    4,    0,    4,   14,  920,    0,    2,    7],\n",
       "       [   0,    3,    9,    9,    2,    1,    5,  915,    2,   82],\n",
       "       [   2,    0,   12,    6,    2,   11,    6,    0,  910,   25],\n",
       "       [   3,    2,    0,    5,   36,    5,    2,    3,    6,  947]],\n",
       "      dtype=int64)"
      ]
     },
     "execution_count": 16,
     "metadata": {},
     "output_type": "execute_result"
    }
   ],
   "source": [
    "# That wasn't too bad.  Over 80% accuracy.  Let's look at the confusion\n",
    "from sklearn.metrics import confusion_matrix, classification_report\n",
    "\n",
    "y_pred = model2.predict(x_test.reshape(10000, 28*28))\n",
    "y_pred_test = np.argmax(y_pred, axis=1)\n",
    "\n",
    "confusion_matrix(y_test, y_pred_test)"
   ]
  },
  {
   "cell_type": "code",
   "execution_count": 17,
   "metadata": {},
   "outputs": [
    {
     "name": "stdout",
     "output_type": "stream",
     "text": [
      "              precision    recall  f1-score   support\n",
      "\n",
      "           0       0.98      0.96      0.97       980\n",
      "           1       0.99      0.97      0.98      1135\n",
      "           2       0.95      0.92      0.93      1032\n",
      "           3       0.93      0.93      0.93      1010\n",
      "           4       0.95      0.89      0.92       982\n",
      "           5       0.93      0.95      0.94       892\n",
      "           6       0.93      0.96      0.94       958\n",
      "           7       0.98      0.89      0.93      1028\n",
      "           8       0.95      0.93      0.94       974\n",
      "           9       0.78      0.94      0.85      1009\n",
      "\n",
      "   micro avg       0.93      0.93      0.93     10000\n",
      "   macro avg       0.94      0.93      0.93     10000\n",
      "weighted avg       0.94      0.93      0.93     10000\n",
      "\n"
     ]
    }
   ],
   "source": [
    "print(classification_report(y_test, y_pred_test))"
   ]
  },
  {
   "cell_type": "code",
   "execution_count": null,
   "metadata": {},
   "outputs": [],
   "source": []
  }
 ],
 "metadata": {
  "kernelspec": {
   "display_name": "Python 3",
   "language": "python",
   "name": "python3"
  },
  "language_info": {
   "codemirror_mode": {
    "name": "ipython",
    "version": 3
   },
   "file_extension": ".py",
   "mimetype": "text/x-python",
   "name": "python",
   "nbconvert_exporter": "python",
   "pygments_lexer": "ipython3",
   "version": "3.5.4"
  }
 },
 "nbformat": 4,
 "nbformat_minor": 2
}
