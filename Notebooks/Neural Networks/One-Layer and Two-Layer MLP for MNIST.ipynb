{
 "cells": [
  {
   "cell_type": "code",
   "execution_count": 34,
   "metadata": {},
   "outputs": [
    {
     "name": "stdout",
     "output_type": "stream",
     "text": [
      "(60000, 28, 28)\n",
      "(60000,)\n",
      "(10000, 28, 28)\n",
      "(10000,)\n"
     ]
    }
   ],
   "source": [
    "import numpy as np\n",
    "np.random.seed(42) # for reproducibility\n",
    "from keras.datasets import mnist\n",
    "from keras.utils import to_categorical\n",
    "import pylab as plt\n",
    "import matplotlib.cm as cm\n",
    "\n",
    "(x_train, y_train), (x_test, y_test) = mnist.load_data()\n",
    "\n",
    "# What does the data look like?\n",
    "print(x_train.shape)\n",
    "print(y_train.shape)\n",
    "print(x_test.shape)\n",
    "print(y_test.shape)"
   ]
  },
  {
   "cell_type": "code",
   "execution_count": 35,
   "metadata": {},
   "outputs": [
    {
     "name": "stdout",
     "output_type": "stream",
     "text": [
      "label :  8\n"
     ]
    },
    {
     "data": {
      "image/png": "[encoded data removed]",
      "text/plain": [
       "<Figure size 432x288 with 1 Axes>"
      ]
     },
     "metadata": {},
     "output_type": "display_data"
    }
   ],
   "source": [
    "# x_train is 60,000 images, so let's look at one of the images\n",
    "i = np.where(y_train==8)[0][0]\n",
    "print(\"label : \", y_train[i])\n",
    "sample = x_train[i, ...]\n",
    "sample.shape\n",
    "plt.imshow(sample, cmap=cm.gray)\n",
    "plt.show()"
   ]
  },
  {
   "cell_type": "code",
   "execution_count": 36,
   "metadata": {},
   "outputs": [
    {
     "name": "stdout",
     "output_type": "stream",
     "text": [
      "(60000, 784)\n"
     ]
    }
   ],
   "source": [
    "# the data should be in a flat array for each sample, so we will reshape from 28 * 28 to 784\n",
    "x_train = x_train.reshape(60000,28*28)\n",
    "print(x_train.shape)\n",
    "\n",
    "# We will one-hot encode the labels\n",
    "y_train = to_categorical(y_train)"
   ]
  },
  {
   "cell_type": "code",
   "execution_count": 37,
   "metadata": {},
   "outputs": [
    {
     "name": "stdout",
     "output_type": "stream",
     "text": [
      "(60000, 10)\n",
      "label :  [0. 0. 0. 0. 0. 0. 0. 0. 1. 0.]\n"
     ]
    }
   ],
   "source": [
    "print(y_train.shape)\n",
    "print(\"label : \", y_train[i, :])"
   ]
  },
  {
   "cell_type": "code",
   "execution_count": 38,
   "metadata": {},
   "outputs": [],
   "source": [
    "# ok now let's get a cross-validation set from the training data.\n",
    "from sklearn.model_selection import train_test_split\n",
    "x_train_part, x_train_val, y_train_part, y_train_val = \\\n",
    "    train_test_split(x_train, y_train, test_size=0.2, random_state=42, stratify=np.argmax(y_train, axis=1))"
   ]
  },
  {
   "cell_type": "code",
   "execution_count": null,
   "metadata": {},
   "outputs": [],
   "source": [
    "# Before creating the model, we will use a custom initializer."
   ]
  },
  {
   "cell_type": "code",
   "execution_count": 126,
   "metadata": {},
   "outputs": [],
   "source": [
    "# now we will define the logistic regression classification model.\n",
    "from keras import models\n",
    "from keras import layers\n",
    "from keras import optimizers\n",
    "from keras import initializers\n",
    "\n",
    "\n",
    "\n",
    "model1 = models.Sequential()\n",
    "model1.add(layers.Dense(16, activation='relu'\n",
    "                        #, kernel_initializer=initializers.RandomUniform(minval=-0.05, maxval=0.05, seed=42)\n",
    "                        #, bias_initializer='zeros'\n",
    "                        , input_shape=(784,)))\n",
    "model1.add(layers.Dense(10, activation='softmax'))\n",
    "\n",
    "#compile the model\n",
    "model1.compile(optimizer=\"rmsprop\",\n",
    "    #optimizer=optimizers.RMSprop(lr=0.001, rho=0.9, epsilon=None, decay=0.0),\n",
    "             loss='categorical_crossentropy',\n",
    "             metrics=['accuracy'])"
   ]
  },
  {
   "cell_type": "code",
   "execution_count": 127,
   "metadata": {},
   "outputs": [
    {
     "name": "stdout",
     "output_type": "stream",
     "text": [
      "training accuracy: 0.9471458333333334\n",
      "validation accuracy: 0.9213333331743876\n"
     ]
    }
   ],
   "source": [
    "# now fit the model...\n",
    "eps = 100\n",
    "history = model1.fit(x_train_part,\n",
    "                    y_train_part,\n",
    "                    batch_size=128,\n",
    "                    epochs=eps,\n",
    "                    verbose=0,\n",
    "                    validation_data=(x_train_val, y_train_val))\n",
    "\n",
    "print(\"training accuracy: {}\".format(history.history['acc'][-1]))\n",
    "print(\"validation accuracy: {}\".format(history.history['val_acc'][-1]))"
   ]
  },
  {
   "cell_type": "code",
   "execution_count": 128,
   "metadata": {},
   "outputs": [
    {
     "data": {
      "image/png": "[encoded data removed]",
      "text/plain": [
       "<Figure size 432x288 with 1 Axes>"
      ]
     },
     "metadata": {},
     "output_type": "display_data"
    }
   ],
   "source": [
    "# plot the learning parameters\n",
    "import matplotlib.pyplot as plt\n",
    "\n",
    "history_dict = history.history\n",
    "loss_values = history_dict['loss']\n",
    "val_loss_values = history_dict['val_loss']\n",
    "\n",
    "epochs = range(1, eps + 1)\n",
    "\n",
    "plt.plot(epochs, loss_values, 'g', label='Training Loss')\n",
    "plt.plot(epochs, val_loss_values, 'b', label='Validation Loss')\n",
    "plt.title('Training and Validation Loss')\n",
    "plt.xlabel('Epochs')\n",
    "plt.ylabel('Loss')\n",
    "plt.legend()\n",
    "\n",
    "plt.show()"
   ]
  },
  {
   "cell_type": "code",
   "execution_count": 129,
   "metadata": {},
   "outputs": [
    {
     "data": {
      "image/png": "[encoded data removed]",
      "text/plain": [
       "<Figure size 432x288 with 1 Axes>"
      ]
     },
     "metadata": {},
     "output_type": "display_data"
    }
   ],
   "source": [
    "plt.clf()\n",
    "\n",
    "acc_values = history_dict['acc']\n",
    "val_acc_values = history_dict['val_acc']\n",
    "\n",
    "plt.plot(epochs, acc_values, 'g', label='Training Accuracy')\n",
    "plt.plot(epochs, val_acc_values, 'b', label='Validation Accuracy')\n",
    "plt.title('Training and Validation Accuracy')\n",
    "plt.xlabel('Epochs')\n",
    "plt.ylabel('Accuracy')\n",
    "plt.legend()\n",
    "\n",
    "plt.show()"
   ]
  },
  {
   "cell_type": "code",
   "execution_count": 130,
   "metadata": {},
   "outputs": [
    {
     "data": {
      "text/plain": [
       "array([[ 955,    0,    1,    1,    1,    5,    6,    7,    4,    0],\n",
       "       [   0, 1104,    7,    4,    3,    1,    2,    1,   13,    0],\n",
       "       [   4,    9,  931,   14,    3,    3,   13,   11,   42,    2],\n",
       "       [   2,    1,   16,  907,    1,   25,    0,    6,   38,   14],\n",
       "       [   3,    3,    3,    1,  877,    4,    9,    8,   17,   57],\n",
       "       [  13,    1,    0,   16,    2,  780,   14,    5,   55,    6],\n",
       "       [   9,    2,    5,    0,    6,   19,  908,    2,    7,    0],\n",
       "       [   1,    6,   17,    8,    3,    3,    0,  957,    6,   27],\n",
       "       [   4,    7,    9,    5,    7,   29,   10,    4,  890,    9],\n",
       "       [   6,    3,    1,    9,   19,    7,    0,   19,   21,  924]])"
      ]
     },
     "execution_count": 130,
     "metadata": {},
     "output_type": "execute_result"
    }
   ],
   "source": [
    "# That wasn't too bad.  Over 80% accuracy.  Let's look at the confusion\n",
    "from sklearn.metrics import confusion_matrix, classification_report\n",
    "\n",
    "y_pred = model1.predict(x_test.reshape(10000, 28*28))\n",
    "y_pred_test = np.argmax(y_pred, axis=1)\n",
    "\n",
    "confusion_matrix(y_test, y_pred_test)"
   ]
  },
  {
   "cell_type": "code",
   "execution_count": 131,
   "metadata": {},
   "outputs": [
    {
     "name": "stdout",
     "output_type": "stream",
     "text": [
      "             precision    recall  f1-score   support\n",
      "\n",
      "          0       0.96      0.97      0.97       980\n",
      "          1       0.97      0.97      0.97      1135\n",
      "          2       0.94      0.90      0.92      1032\n",
      "          3       0.94      0.90      0.92      1010\n",
      "          4       0.95      0.89      0.92       982\n",
      "          5       0.89      0.87      0.88       892\n",
      "          6       0.94      0.95      0.95       958\n",
      "          7       0.94      0.93      0.93      1028\n",
      "          8       0.81      0.91      0.86       974\n",
      "          9       0.89      0.92      0.90      1009\n",
      "\n",
      "avg / total       0.92      0.92      0.92     10000\n",
      "\n"
     ]
    }
   ],
   "source": [
    "print(classification_report(y_test, y_pred_test))"
   ]
  },
  {
   "cell_type": "code",
   "execution_count": 137,
   "metadata": {},
   "outputs": [],
   "source": [
    "# Two hidden layers.\n",
    "model2 = models.Sequential()\n",
    "model2.add(layers.Dense(32, activation='relu', input_shape=(784,)))\n",
    "model2.add(layers.Dense(16, activation='relu'))\n",
    "model2.add(layers.Dense(10, activation='softmax'))\n",
    "\n",
    "#compile the model\n",
    "model2.compile(optimizer=\"rmsprop\",\n",
    "    #optimizer=optimizers.RMSprop(lr=0.001, rho=0.9, epsilon=None, decay=0.0),\n",
    "             loss='categorical_crossentropy',\n",
    "             metrics=['accuracy'])"
   ]
  },
  {
   "cell_type": "code",
   "execution_count": 138,
   "metadata": {},
   "outputs": [
    {
     "name": "stdout",
     "output_type": "stream",
     "text": [
      "training accuracy: 0.9547291666666666\n",
      "validation accuracy: 0.947166666507721\n"
     ]
    }
   ],
   "source": [
    "# now fit the model...\n",
    "eps = 25\n",
    "history2 = model2.fit(x_train_part,\n",
    "                    y_train_part,\n",
    "                    batch_size=128,\n",
    "                    verbose=0,\n",
    "                    epochs=eps,\n",
    "                    validation_data=(x_train_val, y_train_val))\n",
    "print(\"training accuracy: {}\".format(history2.history['acc'][-1]))\n",
    "print(\"validation accuracy: {}\".format(history2.history['val_acc'][-1]))"
   ]
  },
  {
   "cell_type": "code",
   "execution_count": 139,
   "metadata": {},
   "outputs": [
    {
     "data": {
      "image/png": "[encoded data removed]",
      "text/plain": [
       "<Figure size 432x288 with 1 Axes>"
      ]
     },
     "metadata": {},
     "output_type": "display_data"
    }
   ],
   "source": [
    "# plot the learning parameters\n",
    "import matplotlib.pyplot as plt\n",
    "\n",
    "history_dict = history2.history\n",
    "loss_values = history_dict['loss']\n",
    "val_loss_values = history_dict['val_loss']\n",
    "\n",
    "epochs = range(1, eps + 1)\n",
    "\n",
    "plt.plot(epochs, loss_values, 'g', label='Training Loss')\n",
    "plt.plot(epochs, val_loss_values, 'b', label='Validation Loss')\n",
    "plt.title('Training and Validation Loss')\n",
    "plt.xlabel('Epochs')\n",
    "plt.ylabel('Loss')\n",
    "plt.legend()\n",
    "\n",
    "plt.show()"
   ]
  },
  {
   "cell_type": "code",
   "execution_count": 140,
   "metadata": {},
   "outputs": [
    {
     "data": {
      "image/png": "[encoded data removed]",
      "text/plain": [
       "<Figure size 432x288 with 1 Axes>"
      ]
     },
     "metadata": {},
     "output_type": "display_data"
    }
   ],
   "source": [
    "plt.clf()\n",
    "\n",
    "acc_values = history_dict['acc']\n",
    "val_acc_values = history_dict['val_acc']\n",
    "\n",
    "plt.plot(epochs, acc_values, 'g', label='Training Accuracy')\n",
    "plt.plot(epochs, val_acc_values, 'b', label='Validation Accuracy')\n",
    "plt.title('Training and Validation Accuracy')\n",
    "plt.xlabel('Epochs')\n",
    "plt.ylabel('Accuracy')\n",
    "plt.legend()\n",
    "\n",
    "plt.show()"
   ]
  },
  {
   "cell_type": "code",
   "execution_count": 141,
   "metadata": {},
   "outputs": [
    {
     "data": {
      "text/plain": [
       "array([[ 952,    0,    2,    0,    0,    3,    7,    1,    2,   13],\n",
       "       [   0, 1105,    2,    1,    1,    1,    2,    5,   16,    2],\n",
       "       [   2,    6,  960,   11,    2,    1,    5,    7,   16,   22],\n",
       "       [   0,    1,   10,  931,    0,   23,    0,    9,   22,   14],\n",
       "       [   4,    0,    5,    0,  928,    0,    9,    6,    7,   23],\n",
       "       [   4,    2,    0,   17,    1,  846,    7,    0,    8,    7],\n",
       "       [   6,    4,    2,    0,    9,   16,  915,    0,    5,    1],\n",
       "       [   1,    9,   13,    3,    5,    0,    0,  971,    2,   24],\n",
       "       [   3,    0,    1,   12,    3,   11,    2,    3,  924,   15],\n",
       "       [   3,    4,    0,   10,   15,    5,    2,   10,   13,  947]])"
      ]
     },
     "execution_count": 141,
     "metadata": {},
     "output_type": "execute_result"
    }
   ],
   "source": [
    "# That wasn't too bad.  Over 80% accuracy.  Let's look at the confusion\n",
    "from sklearn.metrics import confusion_matrix, classification_report\n",
    "\n",
    "y_pred = model2.predict(x_test.reshape(10000, 28*28))\n",
    "y_pred_test = np.argmax(y_pred, axis=1)\n",
    "\n",
    "confusion_matrix(y_test, y_pred_test)"
   ]
  },
  {
   "cell_type": "code",
   "execution_count": 142,
   "metadata": {},
   "outputs": [
    {
     "name": "stdout",
     "output_type": "stream",
     "text": [
      "             precision    recall  f1-score   support\n",
      "\n",
      "          0       0.98      0.97      0.97       980\n",
      "          1       0.98      0.97      0.98      1135\n",
      "          2       0.96      0.93      0.95      1032\n",
      "          3       0.95      0.92      0.93      1010\n",
      "          4       0.96      0.95      0.95       982\n",
      "          5       0.93      0.95      0.94       892\n",
      "          6       0.96      0.96      0.96       958\n",
      "          7       0.96      0.94      0.95      1028\n",
      "          8       0.91      0.95      0.93       974\n",
      "          9       0.89      0.94      0.91      1009\n",
      "\n",
      "avg / total       0.95      0.95      0.95     10000\n",
      "\n"
     ]
    }
   ],
   "source": [
    "print(classification_report(y_test, y_pred_test))"
   ]
  },
  {
   "cell_type": "code",
   "execution_count": null,
   "metadata": {},
   "outputs": [],
   "source": []
  }
 ],
 "metadata": {
  "kernelspec": {
   "display_name": "Python 3",
   "language": "python",
   "name": "python3"
  },
  "language_info": {
   "codemirror_mode": {
    "name": "ipython",
    "version": 3
   },
   "file_extension": ".py",
   "mimetype": "text/x-python",
   "name": "python",
   "nbconvert_exporter": "python",
   "pygments_lexer": "ipython3",
   "version": "3.5.4"
  }
 },
 "nbformat": 4,
 "nbformat_minor": 2
}
